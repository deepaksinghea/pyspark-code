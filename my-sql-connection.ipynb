{
 "cells": [
  {
   "cell_type": "code",
   "execution_count": 1,
   "id": "cefe4c99",
   "metadata": {},
   "outputs": [],
   "source": [
    "from pyspark import SparkContext, SparkConf"
   ]
  },
  {
   "cell_type": "code",
   "execution_count": 2,
   "id": "ef5c339d",
   "metadata": {},
   "outputs": [],
   "source": [
    "import pyspark\n",
    "\n",
    "from pyspark.sql import SparkSession\n",
    "\n",
    "spark = SparkSession.builder.config(\"spark.jars\", \"/Users/deepak/Downloads/mysql-connector-java-8.0.25/mysql-connector-java-8.0.25.jar\")\\\n",
    ".master(\"local\").appName(\"PySpark MySQL\").getOrCreate()"
   ]
  },
  {
   "cell_type": "code",
   "execution_count": 3,
   "id": "61d27089",
   "metadata": {},
   "outputs": [],
   "source": [
    "url = \"jdbc:mysql://localhost:3306/mysql\"\n",
    "driver = \"com.mysql.jdbc.Driver\"\n",
    "user = \"root\"\n",
    "password = \"testing\"\n",
    "dbtable = \"user\""
   ]
  },
  {
   "cell_type": "code",
   "execution_count": 4,
   "id": "ddf5631a",
   "metadata": {},
   "outputs": [],
   "source": [
    "df = spark.read.format(\"jdbc\").option(\"url\", url) \\\n",
    "    .option(\"driver\", driver).option(\"dbtable\", dbtable) \\\n",
    "    .option(\"user\", user).option(\"password\", password).load()"
   ]
  },
  {
   "cell_type": "code",
   "execution_count": 5,
   "id": "8636fa72",
   "metadata": {},
   "outputs": [
    {
     "name": "stdout",
     "output_type": "stream",
     "text": [
      "+---------+----------------+-----------+-----------+-----------+-----------+-----------+---------+-----------+-------------+------------+---------+----------+---------------+----------+----------+------------+----------+---------------------+----------------+------------+---------------+----------------+----------------+--------------+-------------------+------------------+----------------+----------+------------+----------------------+--------+----------+-----------+------------+-------------+-----------+---------------+--------------------+--------------------+---------------------+----------------+---------------------+-----------------+--------------+----------------+--------------+----------------------+-------------------+------------------------+---------------+\n",
      "|     Host|            User|Select_priv|Insert_priv|Update_priv|Delete_priv|Create_priv|Drop_priv|Reload_priv|Shutdown_priv|Process_priv|File_priv|Grant_priv|References_priv|Index_priv|Alter_priv|Show_db_priv|Super_priv|Create_tmp_table_priv|Lock_tables_priv|Execute_priv|Repl_slave_priv|Repl_client_priv|Create_view_priv|Show_view_priv|Create_routine_priv|Alter_routine_priv|Create_user_priv|Event_priv|Trigger_priv|Create_tablespace_priv|ssl_type|ssl_cipher|x509_issuer|x509_subject|max_questions|max_updates|max_connections|max_user_connections|              plugin|authentication_string|password_expired|password_last_changed|password_lifetime|account_locked|Create_role_priv|Drop_role_priv|Password_reuse_history|Password_reuse_time|Password_require_current|User_attributes|\n",
      "+---------+----------------+-----------+-----------+-----------+-----------+-----------+---------+-----------+-------------+------------+---------+----------+---------------+----------+----------+------------+----------+---------------------+----------------+------------+---------------+----------------+----------------+--------------+-------------------+------------------+----------------+----------+------------+----------------------+--------+----------+-----------+------------+-------------+-----------+---------------+--------------------+--------------------+---------------------+----------------+---------------------+-----------------+--------------+----------------+--------------+----------------------+-------------------+------------------------+---------------+\n",
      "|localhost|mysql.infoschema|          Y|          N|          N|          N|          N|        N|          N|            N|           N|        N|         N|              N|         N|         N|           N|         N|                    N|               N|           N|              N|               N|               N|             N|                  N|                 N|               N|         N|           N|                     N|        |        []|         []|          []|            0|          0|              0|                   0|caching_sha2_pass...| $A$005$THISISACOM...|               N|  2021-05-14 23:08:07|             null|             Y|               N|             N|                  null|               null|                    null|           null|\n",
      "|localhost|   mysql.session|          N|          N|          N|          N|          N|        N|          N|            Y|           N|        N|         N|              N|         N|         N|           N|         Y|                    N|               N|           N|              N|               N|               N|             N|                  N|                 N|               N|         N|           N|                     N|        |        []|         []|          []|            0|          0|              0|                   0|caching_sha2_pass...| $A$005$THISISACOM...|               N|  2021-05-14 23:08:07|             null|             Y|               N|             N|                  null|               null|                    null|           null|\n",
      "|localhost|       mysql.sys|          N|          N|          N|          N|          N|        N|          N|            N|           N|        N|         N|              N|         N|         N|           N|         N|                    N|               N|           N|              N|               N|               N|             N|                  N|                 N|               N|         N|           N|                     N|        |        []|         []|          []|            0|          0|              0|                   0|caching_sha2_pass...| $A$005$THISISACOM...|               N|  2021-05-14 23:08:07|             null|             Y|               N|             N|                  null|               null|                    null|           null|\n",
      "|localhost|            root|          Y|          Y|          Y|          Y|          Y|        Y|          Y|            Y|           Y|        Y|         Y|              Y|         Y|         Y|           Y|         Y|                    Y|               Y|           Y|              Y|               Y|               Y|             Y|                  Y|                 Y|               Y|         Y|           Y|                     Y|        |        []|         []|          []|            0|          0|              0|                   0|caching_sha2_pass...| $A$005$\u0018';\r",
      "\u0004[4\u0004%x...|               N|  2021-05-14 23:08:09|             null|             N|               Y|             Y|                  null|               null|                    null|           null|\n",
      "+---------+----------------+-----------+-----------+-----------+-----------+-----------+---------+-----------+-------------+------------+---------+----------+---------------+----------+----------+------------+----------+---------------------+----------------+------------+---------------+----------------+----------------+--------------+-------------------+------------------+----------------+----------+------------+----------------------+--------+----------+-----------+------------+-------------+-----------+---------------+--------------------+--------------------+---------------------+----------------+---------------------+-----------------+--------------+----------------+--------------+----------------------+-------------------+------------------------+---------------+\n",
      "\n"
     ]
    }
   ],
   "source": [
    "df.show(5)"
   ]
  }
 ],
 "metadata": {
  "kernelspec": {
   "display_name": "Python 3",
   "language": "python",
   "name": "python3"
  },
  "language_info": {
   "codemirror_mode": {
    "name": "ipython",
    "version": 3
   },
   "file_extension": ".py",
   "mimetype": "text/x-python",
   "name": "python",
   "nbconvert_exporter": "python",
   "pygments_lexer": "ipython3",
   "version": "3.9.4"
  }
 },
 "nbformat": 4,
 "nbformat_minor": 5
}
