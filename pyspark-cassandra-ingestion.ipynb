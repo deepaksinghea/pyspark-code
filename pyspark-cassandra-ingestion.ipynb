{
 "cells": [
  {
   "cell_type": "code",
   "execution_count": 1,
   "id": "e2c41d6f",
   "metadata": {},
   "outputs": [],
   "source": [
    "from pyspark import SparkContext, SparkConf\n",
    "\n",
    "import pyspark\n",
    "\n",
    "from pyspark.sql import SparkSession\n",
    "\n",
    "spark = SparkSession \\\n",
    "        .builder \\\n",
    "        .appName(\"Pyspark Cassandra\") \\\n",
    "        .master(\"local[*]\") \\\n",
    "        .config(\"spark.jars.packages\", \"com.datastax.spark:spark-cassandra-connector_2.12:3.0.1\") \\\n",
    "        .getOrCreate()"
   ]
  },
  {
   "cell_type": "code",
   "execution_count": 3,
   "id": "37e38c31",
   "metadata": {},
   "outputs": [],
   "source": [
    "df = spark.read \\\n",
    "  .format(\"csv\") \\\n",
    "  .option(\"header\", \"true\") \\\n",
    "  .option(\"inferSchema\", \"true\") \\\n",
    "  .option(\"nullValue\", \"NA\") \\\n",
    "  .load(\"/Users/deepak/Downloads/sample.csv\")"
   ]
  },
  {
   "cell_type": "code",
   "execution_count": 4,
   "id": "c280a6ac",
   "metadata": {},
   "outputs": [
    {
     "name": "stdout",
     "output_type": "stream",
     "text": [
      "+---+---+------+\n",
      "| id|age|  name|\n",
      "+---+---+------+\n",
      "|  1| 25|deepak|\n",
      "|  2| 27|  yash|\n",
      "|  3| 30|aniket|\n",
      "+---+---+------+\n",
      "\n"
     ]
    }
   ],
   "source": [
    "df.show(5)"
   ]
  },
  {
   "cell_type": "code",
   "execution_count": 5,
   "id": "1af152bc",
   "metadata": {},
   "outputs": [],
   "source": [
    "df.createOrReplaceTempView(\"customer\")\n",
    "\n",
    "dfout = spark.sql(\"\"\"select * from customer\"\"\")"
   ]
  },
  {
   "cell_type": "code",
   "execution_count": 13,
   "id": "e9c5ae00",
   "metadata": {},
   "outputs": [],
   "source": [
    "dfout.write \\\n",
    "  .format(\"org.apache.spark.sql.cassandra\") \\\n",
    "  .mode(\"overwrite\") \\\n",
    "  .option(\"confirm.truncate\", \"true\") \\\n",
    "  .option(\"spark.cassandra.connection.host\", \"127.0.0.1\") \\\n",
    "  .option(\"spark.cassandra.connection.port\", \"9042\") \\\n",
    "  .option(\"keyspace\", \"production\") \\\n",
    "  .option(\"table\", \"test\") \\\n",
    "  .save()"
   ]
  },
  {
   "cell_type": "code",
   "execution_count": 14,
   "id": "ba667dfc",
   "metadata": {},
   "outputs": [
    {
     "name": "stdout",
     "output_type": "stream",
     "text": [
      "Connection Established !!\n"
     ]
    }
   ],
   "source": [
    "import cassandra\n",
    "from cassandra.cluster import Cluster\n",
    "try:\n",
    "    cluster = Cluster(['127.0.0.1'])\n",
    "    session = cluster.connect()\n",
    "    print(\"Connection Established !!\")\n",
    "except Exception as e:\n",
    "    print(f\"Connection Failed !! Error : {e}\")"
   ]
  },
  {
   "cell_type": "code",
   "execution_count": 24,
   "id": "2913eb8b",
   "metadata": {},
   "outputs": [
    {
     "name": "stdout",
     "output_type": "stream",
     "text": [
      "Row(id=1, age=25, name='deepak')\n",
      "Row(id=2, age=27, name='yash')\n",
      "Row(id=3, age=30, name='aniket')\n",
      "Done!\n"
     ]
    }
   ],
   "source": [
    "query = \"\"\"select * from production.test\"\"\"\n",
    "\n",
    "try:\n",
    "    rows = session.execute(query)\n",
    "    for row in rows:\n",
    "        print (row)\n",
    "    print(\"Done!\")\n",
    "except Exception as e:\n",
    "    print(f\"Table Empty Error : {e}\")"
   ]
  }
 ],
 "metadata": {
  "kernelspec": {
   "display_name": "Python 3",
   "language": "python",
   "name": "python3"
  },
  "language_info": {
   "codemirror_mode": {
    "name": "ipython",
    "version": 3
   },
   "file_extension": ".py",
   "mimetype": "text/x-python",
   "name": "python",
   "nbconvert_exporter": "python",
   "pygments_lexer": "ipython3",
   "version": "3.9.4"
  }
 },
 "nbformat": 4,
 "nbformat_minor": 5
}
