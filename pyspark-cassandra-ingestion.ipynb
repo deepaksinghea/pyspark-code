{
 "cells": [
  {
   "cell_type": "code",
   "execution_count": 1,
   "id": "e2c41d6f",
   "metadata": {},
   "outputs": [],
   "source": [
    "from pyspark import SparkContext, SparkConf\n",
    "\n",
    "import pyspark\n",
    "\n",
    "from pyspark.sql import SparkSession\n",
    "\n",
    "spark = SparkSession.builder.config(\"spark.jars\", \"/Users/deepak/Downloads/spark-cassandra-connector_2.10-2.0.13.jar\")\\\n",
    ".master(\"local\").appName(\"PySpark Cassandra\").getOrCreate()"
   ]
  },
  {
   "cell_type": "code",
   "execution_count": 14,
   "id": "37e38c31",
   "metadata": {},
   "outputs": [],
   "source": [
    "df = spark.read \\\n",
    "  .format(\"csv\") \\\n",
    "  .option(\"header\", \"true\") \\\n",
    "  .option(\"inferSchema\", \"true\") \\\n",
    "  .option(\"nullValue\", \"NA\") \\\n",
    "  .load(\"/Users/deepak/Downloads/sample.csv\")"
   ]
  },
  {
   "cell_type": "code",
   "execution_count": 15,
   "id": "c280a6ac",
   "metadata": {},
   "outputs": [
    {
     "name": "stdout",
     "output_type": "stream",
     "text": [
      "+---+---+------+\n",
      "| id|age|  name|\n",
      "+---+---+------+\n",
      "|  1| 25|deepak|\n",
      "|  2| 27|  yash|\n",
      "|  3| 30|aniket|\n",
      "+---+---+------+\n",
      "\n"
     ]
    }
   ],
   "source": [
    "df.show(5)"
   ]
  },
  {
   "cell_type": "code",
   "execution_count": 17,
   "id": "1af152bc",
   "metadata": {},
   "outputs": [],
   "source": [
    "df.createOrReplaceTempView(\"customer\")\n",
    "\n",
    "dfout = spark.sql(\n",
    "  \"\"\"select * from customer\"\"\")"
   ]
  },
  {
   "cell_type": "code",
   "execution_count": null,
   "id": "e9c5ae00",
   "metadata": {},
   "outputs": [],
   "source": [
    "dfout.write \\\n",
    "  .format(\"org.apache.spark.sql.cassandra\") \\\n",
    "  .mode(\"overwrite\") \\\n",
    "  .option(\"confirm.truncate\", \"true\") \\\n",
    "  .option(\"spark.cassandra.connection.host\", \"127.0.0.1\") \\\n",
    "  .option(\"spark.cassandra.connection.port\", \"9042\") \\\n",
    "  .option(\"keyspace\", \"sparktest\") \\\n",
    "  .option(\"table\", \"test_table\") \\\n",
    "  .save()"
   ]
  }
 ],
 "metadata": {
  "kernelspec": {
   "display_name": "Python 3",
   "language": "python",
   "name": "python3"
  },
  "language_info": {
   "codemirror_mode": {
    "name": "ipython",
    "version": 3
   },
   "file_extension": ".py",
   "mimetype": "text/x-python",
   "name": "python",
   "nbconvert_exporter": "python",
   "pygments_lexer": "ipython3",
   "version": "3.9.4"
  }
 },
 "nbformat": 4,
 "nbformat_minor": 5
}
