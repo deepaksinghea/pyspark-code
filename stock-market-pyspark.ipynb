{
 "cells": [
  {
   "cell_type": "code",
   "execution_count": 1,
   "id": "fd704439",
   "metadata": {},
   "outputs": [],
   "source": [
    "import requests\n",
    "import csv\n",
    "import json\n",
    "\n",
    "url = \"http://api.coincap.io/v2/assets/bitcoin/history?interval=d1&start=1592585794000&end=1613753794000\"\n",
    "\n",
    "payload = {}\n",
    "headers= {}\n",
    "\n",
    "response = requests.request(\"GET\", url, headers=headers, data = payload)\n",
    "\n",
    "json_data = json.loads(response.text.encode('utf8'))"
   ]
  },
  {
   "cell_type": "code",
   "execution_count": 2,
   "id": "eb3779de",
   "metadata": {},
   "outputs": [],
   "source": [
    "bitcoin_data = json_data[\"data\"]"
   ]
  },
  {
   "cell_type": "code",
   "execution_count": 3,
   "id": "908e01a6",
   "metadata": {},
   "outputs": [],
   "source": [
    "import pyspark\n",
    "from pyspark.sql import SparkSession\n",
    "\n",
    "spark = SparkSession.builder.master(\"local[*]\").appName(\"Stock Pyspark Example\").getOrCreate()"
   ]
  },
  {
   "cell_type": "code",
   "execution_count": 4,
   "id": "811a0478",
   "metadata": {},
   "outputs": [],
   "source": [
    "df = spark.createDataFrame(bitcoin_data)"
   ]
  },
  {
   "cell_type": "code",
   "execution_count": 5,
   "id": "0e9550d0",
   "metadata": {},
   "outputs": [
    {
     "name": "stdout",
     "output_type": "stream",
     "text": [
      "+------------------------+---------------------+-------------+\n",
      "|date                    |priceUsd             |time         |\n",
      "+------------------------+---------------------+-------------+\n",
      "|2020-06-20T00:00:00.000Z|9312.2640975682276296|1592611200000|\n",
      "|2020-06-21T00:00:00.000Z|9360.6954642839445347|1592697600000|\n",
      "|2020-06-22T00:00:00.000Z|9485.7188617077539610|1592784000000|\n",
      "|2020-06-23T00:00:00.000Z|9643.1446484795214109|1592870400000|\n",
      "|2020-06-24T00:00:00.000Z|9455.9143261593911834|1592956800000|\n",
      "+------------------------+---------------------+-------------+\n",
      "only showing top 5 rows\n",
      "\n"
     ]
    }
   ],
   "source": [
    "df.show(5,truncate=False)"
   ]
  },
  {
   "cell_type": "code",
   "execution_count": 6,
   "id": "bc1581b5",
   "metadata": {},
   "outputs": [
    {
     "name": "stdout",
     "output_type": "stream",
     "text": [
      "root\n",
      " |-- date: string (nullable = true)\n",
      " |-- priceUsd: string (nullable = true)\n",
      " |-- time: long (nullable = true)\n",
      "\n"
     ]
    }
   ],
   "source": [
    "df.printSchema()"
   ]
  },
  {
   "cell_type": "code",
   "execution_count": 7,
   "id": "6eaf96e6",
   "metadata": {},
   "outputs": [],
   "source": [
    "from pyspark.sql.functions import *\n",
    "import pyspark.sql.functions as func\n",
    "df = df.select(\n",
    "          func.round(\"priceUsd\",2).alias(\"modified_price\"),\n",
    "    to_date(col(\"date\"), 'yyyy-MM-dd\\'T\\'HH:mm:ss.SSS\\'Z\\'').alias(\"modified_date\"))"
   ]
  },
  {
   "cell_type": "code",
   "execution_count": 8,
   "id": "cd3dc684",
   "metadata": {},
   "outputs": [
    {
     "name": "stdout",
     "output_type": "stream",
     "text": [
      "root\n",
      " |-- modified_price: double (nullable = true)\n",
      " |-- modified_date: date (nullable = true)\n",
      "\n"
     ]
    }
   ],
   "source": [
    "df.printSchema()"
   ]
  },
  {
   "cell_type": "code",
   "execution_count": 9,
   "id": "093440c0",
   "metadata": {},
   "outputs": [
    {
     "name": "stdout",
     "output_type": "stream",
     "text": [
      "+--------------+-------------+\n",
      "|modified_price|modified_date|\n",
      "+--------------+-------------+\n",
      "|9312.26       |2020-06-20   |\n",
      "|9360.7        |2020-06-21   |\n",
      "|9485.72       |2020-06-22   |\n",
      "|9643.14       |2020-06-23   |\n",
      "|9455.91       |2020-06-24   |\n",
      "+--------------+-------------+\n",
      "only showing top 5 rows\n",
      "\n"
     ]
    }
   ],
   "source": [
    "df.show(5,truncate=False)"
   ]
  },
  {
   "cell_type": "code",
   "execution_count": 10,
   "id": "0e37e7c7",
   "metadata": {},
   "outputs": [
    {
     "name": "stdout",
     "output_type": "stream",
     "text": [
      "+--------------+-------------+\n",
      "|modified_price|modified_date|\n",
      "+--------------+-------------+\n",
      "|9312.26       |2020-06-20   |\n",
      "+--------------+-------------+\n",
      "only showing top 1 row\n",
      "\n"
     ]
    }
   ],
   "source": [
    "df.createOrReplaceTempView(\"bitcoin\")\n",
    "\n",
    "bitcoin_view = spark.sql(\"SELECT * FROM bitcoin\")\n",
    "bitcoin_view.show(1,truncate=False)"
   ]
  }
 ],
 "metadata": {
  "kernelspec": {
   "display_name": "Python 3",
   "language": "python",
   "name": "python3"
  },
  "language_info": {
   "codemirror_mode": {
    "name": "ipython",
    "version": 3
   },
   "file_extension": ".py",
   "mimetype": "text/x-python",
   "name": "python",
   "nbconvert_exporter": "python",
   "pygments_lexer": "ipython3",
   "version": "3.9.4"
  }
 },
 "nbformat": 4,
 "nbformat_minor": 5
}
