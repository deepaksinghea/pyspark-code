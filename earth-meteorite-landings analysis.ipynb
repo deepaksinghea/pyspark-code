{
 "cells": [
  {
   "cell_type": "code",
   "execution_count": 1,
   "id": "c6ccdb73",
   "metadata": {},
   "outputs": [],
   "source": [
    "from pyspark import SparkContext, SparkConf\n",
    "sc = SparkContext(master = 'local[*]')"
   ]
  },
  {
   "cell_type": "code",
   "execution_count": 2,
   "id": "d63b1198",
   "metadata": {},
   "outputs": [],
   "source": [
    "import pyspark\n",
    "from pyspark.sql import SparkSession\n",
    "\n",
    "spark = SparkSession.builder.master(\"local[*]\").appName(\"Second Pyspark Example\").getOrCreate()"
   ]
  },
  {
   "cell_type": "code",
   "execution_count": 3,
   "id": "12be6a40",
   "metadata": {},
   "outputs": [],
   "source": [
    "df = spark.read.option(\"multiLine\", True).json(\"/Users/deepak/Downloads/earth_meteorite_landings.json\")"
   ]
  },
  {
   "cell_type": "code",
   "execution_count": 4,
   "id": "c4e76f5c",
   "metadata": {},
   "outputs": [
    {
     "name": "stdout",
     "output_type": "stream",
     "text": [
      "root\n",
      " |-- region_cbhk: string (nullable = true)\n",
      " |-- region_nnqa: string (nullable = true)\n",
      " |-- fall: string (nullable = true)\n",
      " |-- geolocation: struct (nullable = true)\n",
      " |    |-- coordinates: array (nullable = true)\n",
      " |    |    |-- element: double (containsNull = true)\n",
      " |    |-- type: string (nullable = true)\n",
      " |-- id: string (nullable = true)\n",
      " |-- mass: string (nullable = true)\n",
      " |-- name: string (nullable = true)\n",
      " |-- nametype: string (nullable = true)\n",
      " |-- recclass: string (nullable = true)\n",
      " |-- reclat: string (nullable = true)\n",
      " |-- reclong: string (nullable = true)\n",
      " |-- year: string (nullable = true)\n",
      "\n"
     ]
    }
   ],
   "source": [
    "df = df.withColumnRenamed(\":@computed_region_cbhk_fwbd\",\"region_cbhk\").withColumnRenamed(\":@computed_region_nnqa_25f4\",\"region_nnqa\")\n",
    "df.printSchema()"
   ]
  },
  {
   "cell_type": "code",
   "execution_count": 5,
   "id": "cdd76297",
   "metadata": {},
   "outputs": [
    {
     "name": "stdout",
     "output_type": "stream",
     "text": [
      "+-----------+-----------+----+--------------------------+---+----+------+--------+--------+---------+--------+-----------------------+\n",
      "|region_cbhk|region_nnqa|fall|geolocation               |id |mass|name  |nametype|recclass|reclat   |reclong |year                   |\n",
      "+-----------+-----------+----+--------------------------+---+----+------+--------+--------+---------+--------+-----------------------+\n",
      "|null       |null       |Fell|{[6.08333, 50.775], Point}|1  |21  |Aachen|Valid   |L5      |50.775000|6.083330|1880-01-01T00:00:00.000|\n",
      "+-----------+-----------+----+--------------------------+---+----+------+--------+--------+---------+--------+-----------------------+\n",
      "only showing top 1 row\n",
      "\n"
     ]
    }
   ],
   "source": [
    "df.show(1,truncate=0)"
   ]
  },
  {
   "cell_type": "code",
   "execution_count": 6,
   "id": "e210b5dc",
   "metadata": {},
   "outputs": [],
   "source": [
    "df = df.select('region_cbhk',\n",
    " 'region_nnqa',\n",
    " 'fall',\n",
    " 'id',\n",
    " 'mass',\n",
    " 'name',\n",
    " 'nametype',\n",
    " 'recclass',\n",
    " 'reclat',\n",
    " 'reclong',\n",
    " 'year',\"geolocation.coordinates\",\"geolocation.type\")"
   ]
  },
  {
   "cell_type": "code",
   "execution_count": 7,
   "id": "70c0d651",
   "metadata": {},
   "outputs": [
    {
     "name": "stdout",
     "output_type": "stream",
     "text": [
      "root\n",
      " |-- region_cbhk: string (nullable = true)\n",
      " |-- region_nnqa: string (nullable = true)\n",
      " |-- fall: string (nullable = true)\n",
      " |-- id: string (nullable = true)\n",
      " |-- mass: string (nullable = true)\n",
      " |-- name: string (nullable = true)\n",
      " |-- nametype: string (nullable = true)\n",
      " |-- recclass: string (nullable = true)\n",
      " |-- reclat: string (nullable = true)\n",
      " |-- reclong: string (nullable = true)\n",
      " |-- year: string (nullable = true)\n",
      " |-- coordinates: array (nullable = true)\n",
      " |    |-- element: double (containsNull = true)\n",
      " |-- type: string (nullable = true)\n",
      "\n"
     ]
    }
   ],
   "source": [
    "df.printSchema()"
   ]
  },
  {
   "cell_type": "code",
   "execution_count": 8,
   "id": "e49d6a2c",
   "metadata": {},
   "outputs": [],
   "source": [
    "from pyspark.sql.functions import to_date\n",
    "df = df.withColumn(\"year\",to_date(\"year\"))"
   ]
  },
  {
   "cell_type": "code",
   "execution_count": 9,
   "id": "4e6063c2",
   "metadata": {},
   "outputs": [
    {
     "name": "stdout",
     "output_type": "stream",
     "text": [
      "+-----------+-----------+----+---+----+------+--------+--------+---------+--------+----------+-----------------+-----+\n",
      "|region_cbhk|region_nnqa|fall|id |mass|name  |nametype|recclass|reclat   |reclong |year      |coordinates      |type |\n",
      "+-----------+-----------+----+---+----+------+--------+--------+---------+--------+----------+-----------------+-----+\n",
      "|null       |null       |Fell|1  |21  |Aachen|Valid   |L5      |50.775000|6.083330|1880-01-01|[6.08333, 50.775]|Point|\n",
      "+-----------+-----------+----+---+----+------+--------+--------+---------+--------+----------+-----------------+-----+\n",
      "only showing top 1 row\n",
      "\n"
     ]
    }
   ],
   "source": [
    "df.show(1,truncate=False)"
   ]
  },
  {
   "cell_type": "code",
   "execution_count": 10,
   "id": "c5c17c6f",
   "metadata": {},
   "outputs": [
    {
     "name": "stdout",
     "output_type": "stream",
     "text": [
      "root\n",
      " |-- region_cbhk: string (nullable = true)\n",
      " |-- region_nnqa: string (nullable = true)\n",
      " |-- fall: string (nullable = true)\n",
      " |-- id: string (nullable = true)\n",
      " |-- mass: string (nullable = true)\n",
      " |-- name: string (nullable = true)\n",
      " |-- nametype: string (nullable = true)\n",
      " |-- recclass: string (nullable = true)\n",
      " |-- reclat: string (nullable = true)\n",
      " |-- reclong: string (nullable = true)\n",
      " |-- year: date (nullable = true)\n",
      " |-- coordinates: array (nullable = true)\n",
      " |    |-- element: double (containsNull = true)\n",
      " |-- type: string (nullable = true)\n",
      "\n"
     ]
    }
   ],
   "source": [
    "df.printSchema()"
   ]
  }
 ],
 "metadata": {
  "kernelspec": {
   "display_name": "Python 3",
   "language": "python",
   "name": "python3"
  },
  "language_info": {
   "codemirror_mode": {
    "name": "ipython",
    "version": 3
   },
   "file_extension": ".py",
   "mimetype": "text/x-python",
   "name": "python",
   "nbconvert_exporter": "python",
   "pygments_lexer": "ipython3",
   "version": "3.9.4"
  }
 },
 "nbformat": 4,
 "nbformat_minor": 5
}
